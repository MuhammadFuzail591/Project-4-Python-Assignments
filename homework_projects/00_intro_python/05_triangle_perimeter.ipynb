{
 "cells": [
  {
   "cell_type": "markdown",
   "metadata": {},
   "source": [
    "## Problem Statement\n",
    "\n",
    "Prompt the user to enter the lengths of each side of a triangle and then calculate and print the perimeter of the triangle (the sum of all of the side lengths).\n",
    "\n",
    "Here's a sample run of the program (user input is in bold italics):\n",
    "\n",
    "What is the length of side 1? 3 \n",
    "\n",
    "What is the length of side 2? 4 \n",
    "\n",
    "What is the length of side 3? 5.5 \n",
    "\n",
    "The perimeter of the triangle is 12.5\n",
    "\n",
    "## Starter Code\n",
    "\n",
    "```bash\n",
    "def main():\n",
    "    print(\"Delete this line and write your code here! :)\")\n",
    "\n",
    "\n",
    "# This provided line is required at the end of\n",
    "# Python file to call the main() function.\n",
    "if __name__ == '__main__':\n",
    "    main()\n",
    "```"
   ]
  },
  {
   "cell_type": "code",
   "execution_count": null,
   "metadata": {},
   "outputs": [],
   "source": [
    "def main():\n",
    "   print(\"------ TRIANGLE PERIMETER CALCULATOR -------\")\n",
    "   side_1 : float = float(input(\"Enter The Length of Side a (side) \"))\n",
    "   side_2 : float = float(input(\"Enter The Length of Side b (side) \"))\n",
    "   side_3 : float = float(input(\"Enter The Length of Side c \"))\n",
    "\n",
    "   perimeter = side_1 + side_2 + side_3\n",
    "\n",
    "\n",
    "   print(f\"The perimeter of triangle with given sides is {perimeter}\")\n",
    "\n",
    "if __name__ == '__main__':\n",
    "   main()"
   ]
  }
 ],
 "metadata": {
  "language_info": {
   "name": "python"
  }
 },
 "nbformat": 4,
 "nbformat_minor": 2
}
