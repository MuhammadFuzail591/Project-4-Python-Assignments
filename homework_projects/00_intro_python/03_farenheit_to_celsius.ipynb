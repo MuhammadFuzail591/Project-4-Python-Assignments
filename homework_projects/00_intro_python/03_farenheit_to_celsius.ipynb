{
 "cells": [
  {
   "cell_type": "markdown",
   "metadata": {},
   "source": [
    "## Problem Statement\n",
    "\n",
    "Write a program which prompts the user for a temperature in Fahrenheit (this can be a number with decimal places!) and outputs the temperature converted to Celsius.\n",
    "\n",
    "The Celsius scale is widely used to measure temperature, but places still use Fahrenheit. Fahrenheit is another unit for temperature, but the scale is different from Celsius -- for example, 0 degrees Celsius is 32 degrees Fahrenheit!\n",
    "\n",
    "The equation you should use for converting from Fahrenheit to Celsius is the following:\n",
    "\n",
    "degrees_celsius = (degrees_fahrenheit - 32) * 5.0/9.0\n",
    "\n",
    "(Note. The .0 after the 5 and 9 matters in the line above!!!)\n",
    "\n",
    "Here's a sample run of the program (user input is in bold italics):\n",
    "\n",
    "Enter temperature in Fahrenheit: 76 \n",
    "\n",
    "Temperature: 76.0F = 24.444444444444443C\n",
    "\n",
    "## Starter Code\n",
    "\n",
    "```bash\n",
    "def main():\n",
    "    print(\"Delete this line and write your code here! :)\")\n",
    "\n",
    "\n",
    "# This provided line is required at the end of\n",
    "# Python file to call the main() function.\n",
    "if __name__ == '__main__':\n",
    "    main()\n",
    "```\n",
    "\n",
    "## Solution"
   ]
  },
  {
   "cell_type": "code",
   "execution_count": 1,
   "metadata": {},
   "outputs": [
    {
     "name": "stdout",
     "output_type": "stream",
     "text": [
      "--------Farenheit To Celsius Convertor--------\n",
      "The 76.0F is equals to 24.444444444444443C\n"
     ]
    }
   ],
   "source": [
    "def main():\n",
    "   print(\"--------Farenheit To Celsius Convertor--------\")\n",
    "   farenheit_input : str = input(\"Enter Temperature in Farenheit  \")\n",
    "   farenheit_temp : float = float(farenheit_input)\n",
    "\n",
    "   to_celsius : float = (farenheit_temp - 32) * 5.0/9.0\n",
    "   print(f\"The {farenheit_temp}F is equals to {to_celsius}C\")\n",
    "\n",
    "   return\n",
    "\n",
    "if __name__ == '__main__':\n",
    "   main()"
   ]
  }
 ],
 "metadata": {
  "kernelspec": {
   "display_name": "Python 3",
   "language": "python",
   "name": "python3"
  },
  "language_info": {
   "codemirror_mode": {
    "name": "ipython",
    "version": 3
   },
   "file_extension": ".py",
   "mimetype": "text/x-python",
   "name": "python",
   "nbconvert_exporter": "python",
   "pygments_lexer": "ipython3",
   "version": "3.11.0rc1"
  }
 },
 "nbformat": 4,
 "nbformat_minor": 2
}
