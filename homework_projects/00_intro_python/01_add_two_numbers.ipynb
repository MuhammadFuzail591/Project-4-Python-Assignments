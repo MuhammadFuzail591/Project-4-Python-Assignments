{
 "cells": [
  {
   "cell_type": "markdown",
   "metadata": {},
   "source": [
    "## Problem Statement\n",
    "\n",
    "Write a Python program that takes two integer inputs from the user and calculates their sum. The program should perform the following tasks:\n",
    "\n",
    "1. Prompt the user to enter the first number.\n",
    "\n",
    "2. Read the input and convert it to an integer.\n",
    "\n",
    "3. Prompt the user to enter the second number.\n",
    "\n",
    "4. Read the input and convert it to an integer.\n",
    "\n",
    "5. Calculate the sum of the two numbers.\n",
    "\n",
    "6. Print the total sum with an appropriate message.\n",
    "\n",
    "The provided solution demonstrates a working implementation of this problem, where the main() function guides the user through the process of entering two numbers and displays their sum.\n",
    "\n",
    "## Starter Code\n",
    "\n",
    "```bash\n",
    "def main():\n",
    "    print(\"Delete this line and write your code here! :)\")\n",
    "\n",
    "\n",
    "# This provided line is required at the end of\n",
    "# Python file to call the main() function.\n",
    "if __name__ == '__main__':\n",
    "    main()\n",
    "```"
   ]
  },
  {
   "cell_type": "code",
   "execution_count": 1,
   "metadata": {},
   "outputs": [
    {
     "name": "stdout",
     "output_type": "stream",
     "text": [
      "-------- This program is to Add Two numbers -------\n",
      "The sum of 12 and 23 is 35\n"
     ]
    }
   ],
   "source": [
    "def main():\n",
    "   print(\"-------- This program is to Add Two numbers -------\")\n",
    "   num1_input : str = input(\"Enter First Number:\")\n",
    "   num1 : int = int(num1_input)\n",
    "   num2_input : str = input(\"Enter Second Number:\")\n",
    "   num2 : int = int(num2_input)\n",
    "   sum : int = num1 + num2\n",
    "\n",
    "   print(f\"The sum of {num1} and {num2} is {sum}\")\n",
    "   return \n",
    "\n",
    "\n",
    "if __name__ == '__main__':\n",
    "   main()\n"
   ]
  }
 ],
 "metadata": {
  "kernelspec": {
   "display_name": "Python 3",
   "language": "python",
   "name": "python3"
  },
  "language_info": {
   "codemirror_mode": {
    "name": "ipython",
    "version": 3
   },
   "file_extension": ".py",
   "mimetype": "text/x-python",
   "name": "python",
   "nbconvert_exporter": "python",
   "pygments_lexer": "ipython3",
   "version": "3.11.0rc1"
  }
 },
 "nbformat": 4,
 "nbformat_minor": 2
}
